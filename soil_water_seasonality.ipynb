{
 "cells": [
  {
   "cell_type": "code",
   "execution_count": 1,
   "metadata": {
    "collapsed": true
   },
   "outputs": [],
   "source": [
    "import sys\n",
    "#sys.path.append( '/home/greg/current/NMEG_utils/py_modules/' )\n",
    "sys.path.append( '../NMEG_utils/py_modules/' )\n",
    "\n",
    "#%matplotlib inline\n",
    "import load_nmeg as ld\n",
    "import transform_nmeg as tr\n",
    "import pandas as pd\n",
    "import numpy as np\n",
    "import matplotlib\n",
    "import matplotlib.pyplot as plt\n",
    "import seaborn as sns\n",
    "import datetime as dt\n",
    "#import ipdb as ipdb\n",
    "\n",
    "sns.set_style(\"white\")\n",
    "\n",
    "# data_path = 'C:/Research_Flux_Towers/Flux_Tower_Data_by_Site/'\n",
    "data_path = '/home/greg/sftp/eddyflux/Fluxall_files/provisional/'"
   ]
  },
  {
   "cell_type": "code",
   "execution_count": null,
   "metadata": {
    "collapsed": true
   },
   "outputs": [],
   "source": [
    "# Years to load\n",
    "start = 2007\n",
    "end = 2014\n",
    "# Sites to load\n",
    "site = 'SLand'\n",
    "# Empty dict for hourly dataframes\n",
    "hourly = dict()\n",
    "\n",
    "# Fill dict with multiyear dataframes for each site in sites\n",
    "def dparser( y, m, d, H, M, S ):\n",
    "    yr = int( y )\n",
    "    mon = int( m )\n",
    "    day = int( d )\n",
    "    hr = int( H )\n",
    "    mn =  int( M )\n",
    "    sec = int( S )\n",
    "    \n",
    "    # Some files have a line of zeros at the end - hack it\n",
    "    #if yr != year_arg:\n",
    "    #    yr = 1955\n",
    "    return ( dt.datetime( yr, mon, day, hr, mn, sec ))\n",
    "\n",
    "site_df = pd.DataFrame()\n",
    "for i in range( start, end+1) :\n",
    "    path = data_path + site + '/' + site + '_' + str( i ) + '_fluxall.txt'\n",
    "    new = pd.read_csv(path, delimiter='\\t', parse_dates={'tstamp':[0, 1, 2, 3, 4, 5]},\n",
    "                                 date_parser=dparser, index_col='tstamp')\n",
    "    site_df = site_df.append( new )\n",
    "    \n",
    "site_df.index"
   ]
  },
  {
   "cell_type": "code",
   "execution_count": null,
   "metadata": {
    "collapsed": true
   },
   "outputs": [],
   "source": [
    "soilcols1 = [s for s in site_df.columns if 'SWC' in s]\n",
    "print(soilcols1)"
   ]
  }
 ],
 "metadata": {
  "kernelspec": {
   "display_name": "Python 3",
   "language": "python",
   "name": "python3"
  },
  "language_info": {
   "codemirror_mode": {
    "name": "ipython",
    "version": 3
   },
   "file_extension": ".py",
   "mimetype": "text/x-python",
   "name": "python",
   "nbconvert_exporter": "python",
   "pygments_lexer": "ipython3",
   "version": "3.4.3"
  }
 },
 "nbformat": 4,
 "nbformat_minor": 0
}
